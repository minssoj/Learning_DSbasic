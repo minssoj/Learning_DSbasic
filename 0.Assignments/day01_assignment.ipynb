{
 "cells": [
  {
   "cell_type": "markdown",
   "metadata": {},
   "source": [
    "# Day 01 Assignment"
   ]
  },
  {
   "cell_type": "markdown",
   "metadata": {},
   "source": [
    "* 기본 문법 + 리스트, 딕셔너리\n",
    "* BMI 계산기\n",
    "    1. name, weight, height => bmi를 계산해서\n",
    "    2. name, weight, height, bmi, 비만등급 => 리스트, 딕셔너리 둘중하나에 저장하시오.\n",
    "        1. 한사람의 데이터만 저장하기\n",
    "        2. 무제한 입력받기까지 구현"
   ]
  },
  {
   "cell_type": "markdown",
   "metadata": {},
   "source": [
    "## BMI 및 비만도 계산"
   ]
  },
  {
   "cell_type": "code",
   "execution_count": 6,
   "metadata": {},
   "outputs": [],
   "source": [
    "def calc_bmi(weight, height):\n",
    "    return weight/((height/100)**2)\n",
    "\n",
    "def bmi_grade(bmi):\n",
    "    if bmi >=35 : return '초고도비만'\n",
    "    elif bmi >= 30 : return '고도비만'\n",
    "    elif bmi >= 25 : return '비만'\n",
    "    elif bmi >= 23 : return '과체중'\n",
    "    elif bmi >= 18.5 : return '정상'\n",
    "    else : return '저체중'"
   ]
  },
  {
   "cell_type": "markdown",
   "metadata": {},
   "source": [
    "## BMI 저장"
   ]
  },
  {
   "cell_type": "code",
   "execution_count": 9,
   "metadata": {},
   "outputs": [
    {
     "name": "stdout",
     "output_type": "stream",
     "text": [
      "정보를 입력을 시작합니다. 그만두려면 q를 입력하세요 : a\n",
      "이름을 입력하세요:정민소\n",
      "체중을 입력하세요:50\n",
      "신장을 입력하세요:160\n",
      "정보를 입력을 시작합니다. 그만두려면 q를 입력하세요 : q\n"
     ]
    },
    {
     "data": {
      "text/plain": [
       "[{'name': '정민소',\n",
       "  'weight': 50,\n",
       "  'height': 160,\n",
       "  'bmi': 19.531249999999996,\n",
       "  'grade': '정상'}]"
      ]
     },
     "execution_count": 9,
     "metadata": {},
     "output_type": "execute_result"
    }
   ],
   "source": [
    "data = []\n",
    "while True:\n",
    "    temp = {}\n",
    "    cont = input(\"정보를 입력을 시작합니다. 계속하려면 아무키나, 그만두려면 q를 입력하세요 : \")\n",
    "    if cont == 'q':\n",
    "        break\n",
    "    temp['name'] = input(\"이름을 입력하세요:\")\n",
    "    temp['weight'] = int(input(\"체중을 입력하세요:\"))\n",
    "    temp['height'] = int(input(\"신장을 입력하세요:\"))\n",
    "    temp['bmi'] = calc_bmi(temp['weight'], temp['height'])\n",
    "    temp['grade'] = bmi_grade(temp['bmi'])\n",
    "    data.append(temp)\n",
    "data"
   ]
  }
 ],
 "metadata": {
  "kernelspec": {
   "display_name": "Python 3",
   "language": "python",
   "name": "python3"
  },
  "language_info": {
   "codemirror_mode": {
    "name": "ipython",
    "version": 3
   },
   "file_extension": ".py",
   "mimetype": "text/x-python",
   "name": "python",
   "nbconvert_exporter": "python",
   "pygments_lexer": "ipython3",
   "version": "3.7.6"
  }
 },
 "nbformat": 4,
 "nbformat_minor": 4
}
